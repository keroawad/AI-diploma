{
  "nbformat": 4,
  "nbformat_minor": 0,
  "metadata": {
    "colab": {
      "provenance": [],
      "authorship_tag": "ABX9TyOkDbTOHKpPsQEerFq8aR64",
      "include_colab_link": true
    },
    "kernelspec": {
      "name": "python3",
      "display_name": "Python 3"
    },
    "language_info": {
      "name": "python"
    }
  },
  "cells": [
    {
      "cell_type": "markdown",
      "metadata": {
        "id": "view-in-github",
        "colab_type": "text"
      },
      "source": [
        "<a href=\"https://colab.research.google.com/github/keroawad/AI-diploma/blob/main/collision_solution_in_dictionary_research_session3.ipynb\" target=\"_parent\"><img src=\"https://colab.research.google.com/assets/colab-badge.svg\" alt=\"Open In Colab\"/></a>"
      ]
    },
    {
      "cell_type": "code",
      "execution_count": 1,
      "metadata": {
        "colab": {
          "base_uri": "https://localhost:8080/"
        },
        "id": "Lv5y95yG6Ued",
        "outputId": "a311aaca-d1df-456a-8e43-9700e57bb2cd"
      },
      "outputs": [
        {
          "output_type": "stream",
          "name": "stdout",
          "text": [
            "enter keyname\n",
            "enter valuekero\n",
            " already exists\n"
          ]
        }
      ],
      "source": [
        "l = {\"name\":\"kero\",\"id\":1}\n",
        "key = input(\"enter key\")\n",
        "value = input(\"enter value\")\n",
        "if key not in l:\n",
        "    l[key] = value\n",
        "else:\n",
        "    print(\" already exists\")"
      ]
    }
  ]
}