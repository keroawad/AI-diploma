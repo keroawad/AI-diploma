{
  "nbformat": 4,
  "nbformat_minor": 0,
  "metadata": {
    "colab": {
      "provenance": [],
      "authorship_tag": "ABX9TyO0q4ahqyNqye5b8qw5oD8f",
      "include_colab_link": true
    },
    "kernelspec": {
      "name": "python3",
      "display_name": "Python 3"
    },
    "language_info": {
      "name": "python"
    }
  },
  "cells": [
    {
      "cell_type": "markdown",
      "metadata": {
        "id": "view-in-github",
        "colab_type": "text"
      },
      "source": [
        "<a href=\"https://colab.research.google.com/github/keroawad/AI-diploma/blob/main/Session_2_research.ipynb\" target=\"_parent\"><img src=\"https://colab.research.google.com/assets/colab-badge.svg\" alt=\"Open In Colab\"/></a>"
      ]
    },
    {
      "cell_type": "markdown",
      "source": [
        "**simulation do while in python**"
      ],
      "metadata": {
        "id": "3NjTZE7yCfYQ"
      }
    },
    {
      "cell_type": "code",
      "execution_count": 14,
      "metadata": {
        "colab": {
          "base_uri": "https://localhost:8080/"
        },
        "id": "PsRBPBGRCciQ",
        "outputId": "9860d50d-50bf-4fad-afbd-f06fec78259c"
      },
      "outputs": [
        {
          "output_type": "stream",
          "name": "stdout",
          "text": [
            "enter num 50\n",
            "you enter : 50\n",
            "enter num 20\n",
            "you enter : 20\n",
            "enter num -20\n",
            "you enter : -20\n",
            "number -20\n"
          ]
        }
      ],
      "source": [
        "while(1):\n",
        "  a=int(input(\"enter num \"))\n",
        "  print(\"you enter :\",a)\n",
        "  if(a<=0):\n",
        "   break\n",
        "print(\"number\",a)\n"
      ]
    },
    {
      "cell_type": "markdown",
      "source": [],
      "metadata": {
        "id": "SjTc85sOCeWa"
      }
    }
  ]
}