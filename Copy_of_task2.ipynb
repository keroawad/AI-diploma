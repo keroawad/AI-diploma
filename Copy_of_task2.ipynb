{
  "nbformat": 4,
  "nbformat_minor": 0,
  "metadata": {
    "colab": {
      "provenance": [],
      "include_colab_link": true
    },
    "kernelspec": {
      "name": "python3",
      "display_name": "Python 3"
    },
    "language_info": {
      "name": "python"
    }
  },
  "cells": [
    {
      "cell_type": "markdown",
      "metadata": {
        "id": "view-in-github",
        "colab_type": "text"
      },
      "source": [
        "<a href=\"https://colab.research.google.com/github/keroawad/python-tasks/blob/main/Copy_of_task2.ipynb\" target=\"_parent\"><img src=\"https://colab.research.google.com/assets/colab-badge.svg\" alt=\"Open In Colab\"/></a>"
      ]
    },
    {
      "cell_type": "code",
      "execution_count": null,
      "metadata": {
        "id": "vs_SU3ng0tbN"
      },
      "outputs": [],
      "source": []
    },
    {
      "cell_type": "code",
      "source": [],
      "metadata": {
        "id": "1fVA7cUyWoW-"
      },
      "execution_count": null,
      "outputs": []
    },
    {
      "cell_type": "markdown",
      "source": [
        "\n",
        "# **WAP to enter a number from user and print its absolute value.**"
      ],
      "metadata": {
        "id": "MnWAiH2o0zSa"
      }
    },
    {
      "cell_type": "code",
      "source": [
        "num = int(input(\"enter the num\"))\n",
        "if num<0:\n",
        "  print(-num)\n",
        "else:\n",
        "    print(num)\n"
      ],
      "metadata": {
        "id": "l3oLMLbk02Pj",
        "colab": {
          "base_uri": "https://localhost:8080/"
        },
        "outputId": "d2c4b230-030d-4b96-da9b-fa208bf85827"
      },
      "execution_count": 1,
      "outputs": [
        {
          "output_type": "stream",
          "name": "stdout",
          "text": [
            "enter the num-50\n",
            "50\n"
          ]
        }
      ]
    },
    {
      "cell_type": "markdown",
      "source": [
        "# **WAP to enter a year from user and check if it is leap year or not.**"
      ],
      "metadata": {
        "id": "pOnjNwNx03Tr"
      }
    },
    {
      "cell_type": "code",
      "source": [
        "year=int(input(\"enter the year\"))\n",
        "if year%4==0 and year%100!=0 :\n",
        "  print(\"leap  yaer\")\n",
        "elif year%400==0:\n",
        " print(\"leap  yaer\")\n",
        "else :\n",
        " print(\"not leap year\")"
      ],
      "metadata": {
        "id": "4PEtUTm51H6x",
        "colab": {
          "base_uri": "https://localhost:8080/"
        },
        "outputId": "c4d59669-cf1b-422b-ac58-f0d56a1f1184"
      },
      "execution_count": 9,
      "outputs": [
        {
          "output_type": "stream",
          "name": "stdout",
          "text": [
            "enter the year2025\n",
            "not leap year\n"
          ]
        }
      ]
    },
    {
      "cell_type": "markdown",
      "source": [
        "# **WAP to enter the age of 3 person and print oldest and yougest among them.**"
      ],
      "metadata": {
        "id": "sn-NADUn1VGn"
      }
    },
    {
      "cell_type": "code",
      "source": [
        "age1 = int(input(\"enter the age1\"))\n",
        "age2 = int(input(\"enter the age2\"))\n",
        "age3 = int(input(\"enter the age3\"))\n",
        "if age1>age2 and age1>age3:\n",
        "  print(\"age1 is oldest\")\n",
        "elif age2>age1 and age2>age3:\n",
        "  print(\"age2 is oldest\")\n",
        "else:\n",
        "  print(\"age3 is oldest\")\n",
        "\n",
        "if age1<age2 and age1<age3:\n",
        "  print(\"age1 is yougest\")\n",
        "elif age2<age1 and age2<age3:\n",
        "  print(\"age2 is yougest\")\n",
        "else:\n",
        "  print(\"age3 is yougest\")\n"
      ],
      "metadata": {
        "id": "42xZxPH-bS7d",
        "colab": {
          "base_uri": "https://localhost:8080/"
        },
        "outputId": "bd9be728-edfb-4654-f02b-68bcbdda8b56"
      },
      "execution_count": 2,
      "outputs": [
        {
          "output_type": "stream",
          "name": "stdout",
          "text": [
            "enter the age130\n",
            "enter the age2100\n",
            "enter the age350\n",
            "age2 is oldest\n",
            "age1 is yougest\n"
          ]
        }
      ]
    },
    {
      "cell_type": "markdown",
      "source": [
        "# **Write a program that asks the user to enter a series of numbers. The program should ask for numbers until the user enters a negative number. Once the user enters a negative number, the program should stop and print the sum of all the positive numbers entered**\n",
        "# **Example**\n",
        "# **Enter a number: 5**\n",
        "# **Enter a number: 8**\n",
        "# **Enter a number: 12**\n",
        "# **Enter a number: -2**\n",
        "# **The sum of the positive numbers is 25.**"
      ],
      "metadata": {
        "id": "XFRRNGVj1dEw"
      }
    },
    {
      "cell_type": "code",
      "source": [
        "a=int(input(\"enter the num:\"))\n",
        "sum=0\n",
        "while a>=0:\n",
        "  sum=sum+a\n",
        "  a=int(input(\"enter the num:\"))\n",
        "print(\"The sum of the positive numbers is \",sum)\n",
        "\n",
        "\n"
      ],
      "metadata": {
        "id": "ijp9SzHu2A3p",
        "outputId": "c2a719b3-9010-402b-ae18-ca7ae47492e7",
        "colab": {
          "base_uri": "https://localhost:8080/"
        }
      },
      "execution_count": 3,
      "outputs": [
        {
          "output_type": "stream",
          "name": "stdout",
          "text": [
            "enter the num:30\n",
            "enter the num:20\n",
            "enter the num:70\n",
            "enter the num:-10\n",
            "The sum of the positive numbers is  120\n"
          ]
        }
      ]
    },
    {
      "cell_type": "markdown",
      "source": [
        "# **Write a program that asks the user to enter their name and age. The program should check if the user's age is greater than or equal to 18. If it is, the program should print a message saying they are eligible to vote. Otherwise, the program should print a message saying they are not eligible to vote due to being underage.**"
      ],
      "metadata": {
        "id": "oODCHUj62DxA"
      }
    },
    {
      "cell_type": "code",
      "source": [
        "name=input(\"enter the name:\")\n",
        "age=int(input(\"enter the age:\"))\n",
        "if age>=18:\n",
        "  print(\"plz vote dear \",name)\n",
        "else :\n",
        "  print(\" they are not eligible to vote due to being underage\")\n"
      ],
      "metadata": {
        "id": "Svls1cLA2JVA",
        "colab": {
          "base_uri": "https://localhost:8080/"
        },
        "outputId": "52aaaa76-e89b-450d-d0ba-4bfc4068b260"
      },
      "execution_count": 8,
      "outputs": [
        {
          "output_type": "stream",
          "name": "stdout",
          "text": [
            "enter the name:kero\n",
            "enter the age:20\n",
            "plz vote dear  kero\n"
          ]
        }
      ]
    },
    {
      "cell_type": "markdown",
      "source": [
        "# **Write a Python Program to Find the Factorial of a Number**"
      ],
      "metadata": {
        "id": "2y5o5SqL3nvL"
      }
    },
    {
      "cell_type": "code",
      "source": [
        "a=int(input(\"enter the num\"))\n",
        "factorail=1\n",
        "while a>=1:\n",
        "  factorail=factorail*a\n",
        "  a=a-1\n",
        "print(factorail)\n",
        "\n",
        "\n"
      ],
      "metadata": {
        "id": "Q_v3ns1D3tgy",
        "colab": {
          "base_uri": "https://localhost:8080/"
        },
        "outputId": "6347f5d0-b26d-468e-ad9f-acaa64ece5ca"
      },
      "execution_count": 5,
      "outputs": [
        {
          "output_type": "stream",
          "name": "stdout",
          "text": [
            "enter the num3\n",
            "6\n"
          ]
        }
      ]
    }
  ]
}