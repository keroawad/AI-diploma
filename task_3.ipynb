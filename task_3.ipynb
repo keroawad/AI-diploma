{
  "cells": [
    {
      "cell_type": "markdown",
      "metadata": {
        "id": "view-in-github",
        "colab_type": "text"
      },
      "source": [
        "<a href=\"https://colab.research.google.com/github/keroawad/AI-diploma/blob/main/task_3.ipynb\" target=\"_parent\"><img src=\"https://colab.research.google.com/assets/colab-badge.svg\" alt=\"Open In Colab\"/></a>"
      ]
    },
    {
      "cell_type": "markdown",
      "id": "ff38aad7",
      "metadata": {
        "id": "ff38aad7"
      },
      "source": [
        "### 1-Write a Python program that takes two numbers as user input and performs addition on them."
      ]
    },
    {
      "cell_type": "code",
      "execution_count": 2,
      "id": "91696b79",
      "metadata": {
        "id": "91696b79",
        "outputId": "75bf5103-c97a-48df-b794-60318ff03193",
        "colab": {
          "base_uri": "https://localhost:8080/"
        }
      },
      "outputs": [
        {
          "output_type": "stream",
          "name": "stdout",
          "text": [
            "enter num1 5\n",
            "enter num2 7\n",
            "12\n"
          ]
        }
      ],
      "source": [
        "a=int(input(\"enter num1 \"))\n",
        "b=int(input(\"enter num2 \"))\n",
        "sum=a+b\n",
        "print(sum)"
      ]
    },
    {
      "cell_type": "markdown",
      "id": "360854ff",
      "metadata": {
        "id": "360854ff"
      },
      "source": [
        "### 2-Write a Python program that takes an integer as input and checks if it is even or odd. Print \"Even\" if the number is divisible by 2, otherwise print \"Odd\"."
      ]
    },
    {
      "cell_type": "code",
      "execution_count": 4,
      "id": "ee4c35fe",
      "metadata": {
        "ExecuteTime": {
          "end_time": "2023-07-23T21:35:24.351946Z",
          "start_time": "2023-07-23T21:35:23.287212Z"
        },
        "id": "ee4c35fe",
        "outputId": "2f4d388d-083d-41d9-8b56-c5a300ca1b74",
        "colab": {
          "base_uri": "https://localhost:8080/"
        }
      },
      "outputs": [
        {
          "output_type": "stream",
          "name": "stdout",
          "text": [
            "plz enter numer6\n",
            "the numer even\n"
          ]
        }
      ],
      "source": [
        "a=int(input(\"plz enter numer\"))\n",
        "if a%2==0:\n",
        "  print(\"the numer even\")\n",
        "else:\n",
        "   print(\"the numer odd\")"
      ]
    },
    {
      "cell_type": "code",
      "execution_count": null,
      "id": "24616afc",
      "metadata": {
        "id": "24616afc"
      },
      "outputs": [],
      "source": []
    },
    {
      "cell_type": "markdown",
      "id": "6ea0354c",
      "metadata": {
        "id": "6ea0354c"
      },
      "source": [
        "### 3-Write a Python program that prints all the even numbers from 1 to 20 using a for loop"
      ]
    },
    {
      "cell_type": "code",
      "execution_count": 5,
      "id": "df43b7f5",
      "metadata": {
        "ExecuteTime": {
          "end_time": "2023-07-23T21:36:51.373589Z",
          "start_time": "2023-07-23T21:36:51.365580Z"
        },
        "id": "df43b7f5",
        "outputId": "64d0c1c5-8c5a-48ee-a5ea-90e807f723a3",
        "colab": {
          "base_uri": "https://localhost:8080/"
        }
      },
      "outputs": [
        {
          "output_type": "stream",
          "name": "stdout",
          "text": [
            "2\n",
            "4\n",
            "6\n",
            "8\n",
            "10\n",
            "12\n",
            "14\n",
            "16\n",
            "18\n",
            "20\n"
          ]
        }
      ],
      "source": [
        "for i in range(1,21):\n",
        " if i%2==0:\n",
        "  print(i)"
      ]
    },
    {
      "cell_type": "code",
      "execution_count": null,
      "id": "cc16a5c2",
      "metadata": {
        "ExecuteTime": {
          "end_time": "2023-07-23T22:04:21.481350Z",
          "start_time": "2023-07-23T22:04:21.452242Z"
        },
        "id": "cc16a5c2"
      },
      "outputs": [],
      "source": []
    },
    {
      "cell_type": "code",
      "execution_count": null,
      "id": "7b7ee5e8",
      "metadata": {
        "id": "7b7ee5e8"
      },
      "outputs": [],
      "source": []
    },
    {
      "cell_type": "markdown",
      "id": "2d66bab2",
      "metadata": {
        "id": "2d66bab2"
      },
      "source": [
        "### 4-Write a Python function that takes a string as input and counts the number of vowels (a, e, i, o, u) in the string. The function should return the count"
      ]
    },
    {
      "cell_type": "code",
      "execution_count": 6,
      "id": "a37a84fd",
      "metadata": {
        "ExecuteTime": {
          "end_time": "2023-07-23T21:45:58.522044Z",
          "start_time": "2023-07-23T21:45:58.514370Z"
        },
        "id": "a37a84fd",
        "outputId": "b0196173-aebf-486d-8678-899e1b07dc0f",
        "colab": {
          "base_uri": "https://localhost:8080/"
        }
      },
      "outputs": [
        {
          "output_type": "stream",
          "name": "stdout",
          "text": [
            "6\n"
          ]
        }
      ],
      "source": [
        "def count(x):\n",
        "  c=0\n",
        "  for i in range(len(x)):\n",
        "    if x[i]==\"a\"or x[i]==\"e\"or x[i]==\"i\"or x[i]==\"o\"or x[i]==\"u\":\n",
        "     c=c+1\n",
        "  print(c)\n",
        "\n",
        "count(\"keroules awad\")"
      ]
    },
    {
      "cell_type": "code",
      "execution_count": null,
      "id": "2eb8e4de",
      "metadata": {
        "ExecuteTime": {
          "end_time": "2023-07-23T23:56:27.324204Z",
          "start_time": "2023-07-23T23:56:26.972092Z"
        },
        "id": "2eb8e4de"
      },
      "outputs": [],
      "source": []
    },
    {
      "cell_type": "code",
      "execution_count": null,
      "id": "24105679",
      "metadata": {
        "ExecuteTime": {
          "end_time": "2023-07-23T21:43:41.353283Z",
          "start_time": "2023-07-23T21:43:41.332496Z"
        },
        "id": "24105679"
      },
      "outputs": [],
      "source": []
    },
    {
      "cell_type": "markdown",
      "id": "a9a0ea06",
      "metadata": {
        "id": "a9a0ea06"
      },
      "source": [
        "### 5-Write a Python program that creates a list of numbers from 1 to 10. Use a loop to iterate over the list and print each number of power 2."
      ]
    },
    {
      "cell_type": "code",
      "execution_count": 7,
      "id": "6fa658cf",
      "metadata": {
        "ExecuteTime": {
          "end_time": "2023-07-23T21:48:02.328880Z",
          "start_time": "2023-07-23T21:48:02.314313Z"
        },
        "id": "6fa658cf",
        "outputId": "1411dafe-20c7-4dfd-cbe8-9e854ba3708b",
        "colab": {
          "base_uri": "https://localhost:8080/"
        }
      },
      "outputs": [
        {
          "output_type": "stream",
          "name": "stdout",
          "text": [
            "0\n",
            "1\n",
            "4\n",
            "9\n",
            "16\n",
            "25\n",
            "36\n",
            "49\n",
            "64\n",
            "81\n",
            "100\n",
            "0\n",
            "1\n",
            "4\n",
            "9\n",
            "16\n",
            "25\n",
            "36\n",
            "49\n",
            "64\n",
            "81\n",
            "100\n"
          ]
        }
      ],
      "source": [
        "n=[0,1,2,3,4,5,6,7,8,9,10]\n",
        "for i in n:\n",
        "  print(i**2)\n",
        "\n",
        "\n",
        "n=[0,1,2,3,4,5,6,7,8,9,10]\n",
        "for i in range(len(n)):\n",
        "  print(n[i]**2)"
      ]
    },
    {
      "cell_type": "code",
      "execution_count": null,
      "id": "f0e52d30",
      "metadata": {
        "ExecuteTime": {
          "end_time": "2023-07-15T16:20:03.747408Z",
          "start_time": "2023-07-15T16:20:03.740547Z"
        },
        "id": "f0e52d30"
      },
      "outputs": [],
      "source": []
    },
    {
      "cell_type": "markdown",
      "id": "430c9df9",
      "metadata": {
        "id": "430c9df9"
      },
      "source": [
        "### 6-Write a Python program that calculates the average grade for a student based on their scores in different subjects. The program should include the following steps:\n",
        "\n",
        "#### 1-Create variables to store the student's name, subject names, and corresponding scores. Initialize the variables with sample data.\n",
        "\n",
        "#### 2-Prompt the user to enter the student's name and assign it to the name variable.\n",
        "\n",
        "#### 3-Use a loop to prompt the user to enter the subject names and corresponding scores. Store the subject names in a list and the scores in another list.\n",
        "\n",
        "#### 4-After collecting the scores, calculate the average grade by summing up all the scores and dividing by the total number of subjects.\n",
        "\n",
        "#### 5-Check if the average grade is above a 70, print a congratulatory message. Otherwise, print an encouragement message."
      ]
    },
    {
      "cell_type": "code",
      "execution_count": 8,
      "id": "e0254271",
      "metadata": {
        "ExecuteTime": {
          "end_time": "2023-07-15T16:16:17.066909Z",
          "start_time": "2023-07-15T16:16:07.636799Z"
        },
        "id": "e0254271",
        "outputId": "974fbf19-f3a0-4709-f4da-3282daa3d698",
        "colab": {
          "base_uri": "https://localhost:8080/"
        }
      },
      "outputs": [
        {
          "output_type": "stream",
          "name": "stdout",
          "text": [
            "enter your name :kero\n",
            "enter num of sub :3\n",
            "enter sub name :is\n",
            "enter sub score :60\n",
            "enter sub name :cs\n",
            "enter sub score :80\n",
            "enter sub name :bis\n",
            "enter sub score :79\n",
            "['is', 'cs', 'bis']\n",
            "[60, 80, 79]\n",
            "congratulatory kero\n"
          ]
        }
      ],
      "source": [
        "name=input(\"enter your name :\")\n",
        "num=int(input(\"enter num of sub :\"))\n",
        "sub_name=[]\n",
        "sub_score=[]\n",
        "for i in range(num):\n",
        "  sub=input(\"enter sub name :\")\n",
        "  score=int(input(\"enter sub score :\"))\n",
        "  sub_name.append(sub)\n",
        "  sub_score.append(score)\n",
        "print(sub_name)\n",
        "print(sub_score)\n",
        "sum=0\n",
        "for i in range(len(sub_score)):\n",
        "\n",
        "  sum=sum+sub_score[i]\n",
        "  avarde=sum/num\n",
        "\n",
        "if avarde>70:\n",
        "  print(\"congratulatory\",name)\n",
        "else:\n",
        "  print(\"encouragement \",name)\n",
        "\n",
        "\n",
        "\n",
        "\n"
      ]
    },
    {
      "cell_type": "code",
      "execution_count": null,
      "id": "37b3ff97",
      "metadata": {
        "ExecuteTime": {
          "end_time": "2023-07-23T21:56:24.493717Z",
          "start_time": "2023-07-23T21:56:17.227071Z"
        },
        "id": "37b3ff97"
      },
      "outputs": [],
      "source": []
    },
    {
      "cell_type": "markdown",
      "id": "ae9df360",
      "metadata": {
        "id": "ae9df360"
      },
      "source": [
        "### 7-Find Common Elements\n",
        "### Write a Python function that takes two lists as input and returns a new list containing the common elements present in both lists."
      ]
    },
    {
      "cell_type": "code",
      "execution_count": 9,
      "id": "d030c3c0",
      "metadata": {
        "ExecuteTime": {
          "end_time": "2023-07-23T22:08:16.794474Z",
          "start_time": "2023-07-23T22:08:16.775639Z"
        },
        "id": "d030c3c0",
        "outputId": "481df763-c02b-47d7-a03c-c58ce260368b",
        "colab": {
          "base_uri": "https://localhost:8080/"
        }
      },
      "outputs": [
        {
          "output_type": "stream",
          "name": "stdout",
          "text": [
            "[1, 3, 4]\n"
          ]
        }
      ],
      "source": [
        "  k=[1,2,3,4,5]\n",
        "  l=[1,3,4]\n",
        "  def com(a,b):\n",
        "    c=[]\n",
        "    for i in a:\n",
        "      for j in b:\n",
        "        if i==j:\n",
        "          c.append(i)\n",
        "    print(c)\n",
        "  com(k,l)\n",
        "\n"
      ]
    },
    {
      "cell_type": "code",
      "execution_count": null,
      "id": "371369cd",
      "metadata": {
        "ExecuteTime": {
          "end_time": "2023-07-23T23:56:27.326200Z",
          "start_time": "2023-07-23T23:56:27.326200Z"
        },
        "id": "371369cd"
      },
      "outputs": [],
      "source": []
    },
    {
      "cell_type": "markdown",
      "id": "9a2f34cb",
      "metadata": {
        "id": "9a2f34cb"
      },
      "source": [
        "### 8-Write a Python function that takes a list of numbers and an element to remove from the list."
      ]
    },
    {
      "cell_type": "code",
      "execution_count": 12,
      "id": "78de9fe8",
      "metadata": {
        "ExecuteTime": {
          "end_time": "2023-07-23T22:21:36.514592Z",
          "start_time": "2023-07-23T22:21:36.505437Z"
        },
        "id": "78de9fe8",
        "outputId": "5c74c706-e118-42ec-8400-8b34c5af44b2",
        "colab": {
          "base_uri": "https://localhost:8080/"
        }
      },
      "outputs": [
        {
          "output_type": "stream",
          "name": "stdout",
          "text": [
            "enter num: 432\n",
            "enter num: 45\n",
            "enter num: 2\n",
            "enter num: 12\n",
            "enter num: 35\n",
            "[432, 45, 2, 12, 35]\n",
            "[432, 45, 12, 35]\n"
          ]
        }
      ],
      "source": [
        "a = []\n",
        "def n(a, element):\n",
        "    for i in range(5):\n",
        "        b = int(input(\"enter num: \"))\n",
        "        a.append(b)\n",
        "    print(a)\n",
        "    if element in a:\n",
        "        a.remove(element)\n",
        "\n",
        "    print(a)\n",
        "\n",
        "n(a, 2)\n"
      ]
    },
    {
      "cell_type": "code",
      "execution_count": null,
      "id": "d80aa813",
      "metadata": {
        "ExecuteTime": {
          "end_time": "2023-07-23T22:21:37.220121Z",
          "start_time": "2023-07-23T22:21:37.215586Z"
        },
        "id": "d80aa813"
      },
      "outputs": [],
      "source": []
    },
    {
      "cell_type": "code",
      "execution_count": null,
      "id": "3feaf264",
      "metadata": {
        "ExecuteTime": {
          "end_time": "2023-07-23T22:21:38.480436Z",
          "start_time": "2023-07-23T22:21:38.464574Z"
        },
        "id": "3feaf264"
      },
      "outputs": [],
      "source": []
    },
    {
      "cell_type": "markdown",
      "id": "f1658f3b",
      "metadata": {
        "ExecuteTime": {
          "end_time": "2023-07-23T22:18:08.230185Z",
          "start_time": "2023-07-23T22:18:08.224220Z"
        },
        "id": "f1658f3b"
      },
      "source": [
        "### 9-Given 4 numbers A, B, C and D. Print the last 2 digits from their Multiplication.\n",
        "### Example :\n",
        "### the Multiplication of 4 numbers is 5 * 7 * 2 * 4 = 280 so the answer will be the last 2 digits which are 80."
      ]
    },
    {
      "cell_type": "code",
      "execution_count": 14,
      "id": "e3acbe03",
      "metadata": {
        "ExecuteTime": {
          "end_time": "2023-07-23T22:26:11.183016Z",
          "start_time": "2023-07-23T22:26:03.981069Z"
        },
        "id": "e3acbe03",
        "outputId": "1885fadd-e824-4cf1-fd05-1f3787a964a3",
        "colab": {
          "base_uri": "https://localhost:8080/"
        }
      },
      "outputs": [
        {
          "output_type": "stream",
          "name": "stdout",
          "text": [
            "enter num1 34\n",
            "enter num2 2\n",
            "enter num3 7\n",
            "enter num4 4\n",
            "1904\n",
            "04\n",
            "enter num1 34\n",
            "enter num2 2\n",
            "enter num3 7\n",
            "enter num4 4\n",
            "1904\n",
            "4\n",
            "enter num1 34\n",
            "enter num2 2\n",
            "enter num3 7\n",
            "enter num4 4\n",
            "1904\n",
            "4\n",
            "0\n"
          ]
        }
      ],
      "source": [
        "a=int(input(\"enter num1 \"))\n",
        "b=int(input(\"enter num2 \"))\n",
        "c=int(input(\"enter num3 \"))\n",
        "d=int(input(\"enter num4 \"))\n",
        "z=str(a*b*c*d)\n",
        "print(z)\n",
        "print(z[-2:])\n",
        "'''\n",
        "\\\\\\\\\\\\\\\n",
        "'''\n",
        "a=int(input(\"enter num1 \"))\n",
        "b=int(input(\"enter num2 \"))\n",
        "c=int(input(\"enter num3 \"))\n",
        "d=int(input(\"enter num4 \"))\n",
        "z=a*b*c*d\n",
        "print(z)\n",
        "print(z%100)\n",
        "'''\n",
        "\\\\\\\\\\\\\\\n",
        "'''\n",
        "a=int(input(\"enter num1 \"))\n",
        "b=int(input(\"enter num2 \"))\n",
        "c=int(input(\"enter num3 \"))\n",
        "d=int(input(\"enter num4 \"))\n",
        "z=a*b*c*d\n",
        "print(z)\n",
        "for i in range(2):\n",
        "  k=z%10\n",
        "  print(k)\n",
        "  z=z//10\n",
        "\n",
        "\n",
        "\n",
        "\n",
        "\n"
      ]
    },
    {
      "cell_type": "markdown",
      "id": "d7ab15bb",
      "metadata": {
        "ExecuteTime": {
          "end_time": "2023-07-23T22:26:14.833712Z",
          "start_time": "2023-07-23T22:26:14.819130Z"
        },
        "id": "d7ab15bb"
      },
      "source": [
        "### 10- Given a number X. Determine if the number is prime or not"
      ]
    },
    {
      "cell_type": "code",
      "execution_count": 15,
      "id": "59b27f0a",
      "metadata": {
        "ExecuteTime": {
          "end_time": "2023-07-23T22:35:25.933766Z",
          "start_time": "2023-07-23T22:35:24.168681Z"
        },
        "id": "59b27f0a",
        "outputId": "40806d42-8ec6-4ed6-a98d-c73a70b77ecf",
        "colab": {
          "base_uri": "https://localhost:8080/"
        }
      },
      "outputs": [
        {
          "output_type": "stream",
          "name": "stdout",
          "text": [
            "enter num 7\n",
            "is prime\n"
          ]
        }
      ],
      "source": [
        "x=int(input(\"enter num \"))\n",
        "for i in range(2,x):\n",
        "  if x%i==0:\n",
        "    print(\"not prime\")\n",
        "    break\n",
        "else:\n",
        "    print(\"is prime\")\n",
        "\n",
        "\n"
      ]
    },
    {
      "cell_type": "code",
      "execution_count": null,
      "id": "03f6ff0e",
      "metadata": {
        "id": "03f6ff0e"
      },
      "outputs": [],
      "source": []
    },
    {
      "cell_type": "markdown",
      "id": "e1d1dcf9",
      "metadata": {
        "id": "e1d1dcf9"
      },
      "source": [
        "### 11- Given a number N and a list A of N numbers. Determine if the number X exists in array A or not and print its position (0-index)."
      ]
    },
    {
      "cell_type": "code",
      "execution_count": 16,
      "id": "2b002b0e",
      "metadata": {
        "ExecuteTime": {
          "end_time": "2023-07-23T22:53:41.474835Z",
          "start_time": "2023-07-23T22:53:41.458293Z"
        },
        "id": "2b002b0e",
        "outputId": "c5688311-d548-4186-abdd-67516b28b945",
        "colab": {
          "base_uri": "https://localhost:8080/"
        }
      },
      "outputs": [
        {
          "output_type": "stream",
          "name": "stdout",
          "text": [
            "size list3\n",
            "enter num 21\n",
            "enter num 43\n",
            "enter num 5\n",
            "[21, 43, 5]\n",
            "enter num 43\n",
            "index num= 1\n"
          ]
        }
      ],
      "source": [
        "n=int(input(\"size list\"))\n",
        "a=[]\n",
        "for i in range(n):\n",
        "  k=int(input(\"enter num \"))\n",
        "  a.append(k)\n",
        "print(a)\n",
        "x=int(input(\"enter num \"))\n",
        "for i in range(len(a)):\n",
        "  if a[i]==x:\n",
        "    print(\"index num=\",i)\n"
      ]
    },
    {
      "cell_type": "markdown",
      "id": "f2ec854b",
      "metadata": {
        "id": "f2ec854b"
      },
      "source": [
        "### 12- Given a number N and a list A of N numbers. Determine if the array is lucky or not.\n",
        "\n",
        "#### Note: the array is lucky if the frequency (number of occurrence) of the minimum element is odd."
      ]
    },
    {
      "cell_type": "code",
      "execution_count": 17,
      "id": "0c4f7f4b",
      "metadata": {
        "ExecuteTime": {
          "end_time": "2023-07-23T23:02:02.490192Z",
          "start_time": "2023-07-23T23:02:02.476874Z"
        },
        "id": "0c4f7f4b",
        "outputId": "c3799edc-7cbc-4aee-f896-d31cc1c9c890",
        "colab": {
          "base_uri": "https://localhost:8080/"
        }
      },
      "outputs": [
        {
          "output_type": "stream",
          "name": "stdout",
          "text": [
            "size list4\n",
            "enter num21\n",
            "enter num4\n",
            "enter num7\n",
            "enter num5\n",
            "[21, 4, 7, 5]\n"
          ]
        }
      ],
      "source": [
        "n=int(input(\"size list\"))\n",
        "a=[]\n",
        "for i in range(n):\n",
        "  k=int(input(\"enter num \"))\n",
        "  a.append(k)\n",
        "print(a)\n",
        "b=min(a)\n",
        "print(b)\n",
        "\n",
        "\n"
      ]
    },
    {
      "cell_type": "markdown",
      "id": "e1ce1ae5",
      "metadata": {
        "id": "e1ce1ae5"
      },
      "source": [
        "### 13-Given a number N and a list A of N numbers. Print the array after doing the following operations:\n",
        "\n",
        "#### Find minimum number in these numbers.\n",
        "#### Find maximum number in these numbers.\n",
        "##### Swap minimum number with maximum number."
      ]
    },
    {
      "cell_type": "code",
      "execution_count": 21,
      "id": "e0d6e639",
      "metadata": {
        "ExecuteTime": {
          "end_time": "2023-07-23T23:10:04.293733Z",
          "start_time": "2023-07-23T23:10:04.280256Z"
        },
        "id": "e0d6e639",
        "outputId": "2da0dc6b-12d6-49f5-b2d1-e5c53596f551",
        "colab": {
          "base_uri": "https://localhost:8080/"
        }
      },
      "outputs": [
        {
          "output_type": "stream",
          "name": "stdout",
          "text": [
            "size list: 4\n",
            "enter num: 23\n",
            "enter num: 78\n",
            "enter num: 2\n",
            "enter num: 5\n",
            "[23, 78, 2, 5]\n",
            "2\n",
            "78\n",
            "[23, 2, 78, 5]\n"
          ]
        }
      ],
      "source": [
        "n = int(input(\"size list: \"))\n",
        "a = []\n",
        "\n",
        "for i in range(n):\n",
        "    k = int(input(\"enter num: \"))\n",
        "    a.append(k)\n",
        "\n",
        "print(a)\n",
        "\n",
        "b = min(a)\n",
        "c = max(a)\n",
        "\n",
        "print(b)\n",
        "print(c)\n",
        "\n",
        "min_index = a.index(b)\n",
        "max_index = a.index(c)\n",
        "\n",
        "temp = a[min_index]\n",
        "a[min_index] = a[max_index]\n",
        "a[max_index] = temp\n",
        "\n",
        "print(a)\n"
      ]
    },
    {
      "cell_type": "code",
      "execution_count": null,
      "id": "20165184",
      "metadata": {
        "ExecuteTime": {
          "end_time": "2023-07-23T23:10:04.651957Z",
          "start_time": "2023-07-23T23:10:04.648955Z"
        },
        "id": "20165184"
      },
      "outputs": [],
      "source": []
    },
    {
      "cell_type": "code",
      "execution_count": null,
      "id": "4e5ac998",
      "metadata": {
        "ExecuteTime": {
          "end_time": "2023-07-23T23:56:27.327202Z",
          "start_time": "2023-07-23T23:56:27.327202Z"
        },
        "id": "4e5ac998"
      },
      "outputs": [],
      "source": [
        "maximum"
      ]
    },
    {
      "cell_type": "markdown",
      "id": "9eb8e9c5",
      "metadata": {
        "ExecuteTime": {
          "end_time": "2023-07-23T23:10:06.436833Z",
          "start_time": "2023-07-23T23:10:06.422086Z"
        },
        "id": "9eb8e9c5"
      },
      "source": [
        "### 14-Given a number N and an array A of N numbers. Print the lowest number and its position.\n",
        "\n",
        "### Note: if there are more than one answer print first one's position."
      ]
    },
    {
      "cell_type": "code",
      "execution_count": 28,
      "id": "018e01c8",
      "metadata": {
        "ExecuteTime": {
          "end_time": "2023-07-23T23:20:38.498527Z",
          "start_time": "2023-07-23T23:20:38.490451Z"
        },
        "id": "018e01c8",
        "outputId": "8a058874-a9d9-43f5-ec3a-83d4f90afddb",
        "colab": {
          "base_uri": "https://localhost:8080/"
        }
      },
      "outputs": [
        {
          "output_type": "stream",
          "name": "stdout",
          "text": [
            "size list 3\n",
            "enter num 12\n",
            "enter num 4\n",
            "enter num 23\n",
            "[12, 4, 23]\n",
            "4\n",
            "index= 1\n"
          ]
        }
      ],
      "source": [
        "n=int(input(\"size list \"))\n",
        "a=[]\n",
        "for i in range(n):\n",
        "  k=int(input(\"enter num \" ))\n",
        "  a.append(k)\n",
        "print(a)\n",
        "b=min(a)\n",
        "print(b)\n",
        "c=a.index(b)\n",
        "print(\"index=\",c)"
      ]
    },
    {
      "cell_type": "code",
      "execution_count": null,
      "id": "477554c7",
      "metadata": {
        "ExecuteTime": {
          "end_time": "2023-07-23T23:20:55.126958Z",
          "start_time": "2023-07-23T23:20:55.120450Z"
        },
        "id": "477554c7"
      },
      "outputs": [],
      "source": []
    },
    {
      "cell_type": "code",
      "execution_count": null,
      "id": "27e032e4",
      "metadata": {
        "ExecuteTime": {
          "end_time": "2023-07-23T23:20:55.425024Z",
          "start_time": "2023-07-23T23:20:55.407711Z"
        },
        "id": "27e032e4"
      },
      "outputs": [],
      "source": []
    },
    {
      "cell_type": "markdown",
      "id": "f35d3427",
      "metadata": {
        "ExecuteTime": {
          "end_time": "2023-07-23T23:20:55.880128Z",
          "start_time": "2023-07-23T23:20:55.861804Z"
        },
        "id": "f35d3427"
      },
      "source": [
        "### 15-Given a number N and an array A of N numbers. Print the numbers after sorting them"
      ]
    },
    {
      "cell_type": "code",
      "execution_count": 23,
      "id": "a6e0edd4",
      "metadata": {
        "ExecuteTime": {
          "end_time": "2023-07-23T23:46:13.340484Z",
          "start_time": "2023-07-23T23:46:13.324468Z"
        },
        "id": "a6e0edd4",
        "outputId": "800d0ad4-be19-49d6-98de-9fff72c58921",
        "colab": {
          "base_uri": "https://localhost:8080/"
        }
      },
      "outputs": [
        {
          "output_type": "stream",
          "name": "stdout",
          "text": [
            "size list4\n",
            "enter num23\n",
            "enter num4\n",
            "enter num54\n",
            "enter num2\n",
            "[23, 4, 54, 2]\n",
            "[2, 4, 23, 54]\n"
          ]
        }
      ],
      "source": [
        "n=int(input(\"size list\"))\n",
        "a=[]\n",
        "for i in range(n):\n",
        "  k=int(input(\"enter num\"))\n",
        "  a.append(k)\n",
        "print(a)\n",
        "a.sort()\n",
        "print(a)"
      ]
    },
    {
      "cell_type": "code",
      "execution_count": null,
      "id": "38100d74",
      "metadata": {
        "ExecuteTime": {
          "end_time": "2023-07-23T23:46:14.343960Z",
          "start_time": "2023-07-23T23:46:14.325805Z"
        },
        "id": "38100d74"
      },
      "outputs": [],
      "source": []
    },
    {
      "cell_type": "markdown",
      "id": "a172f354",
      "metadata": {
        "ExecuteTime": {
          "end_time": "2023-07-23T23:46:15.127981Z",
          "start_time": "2023-07-23T23:46:15.108766Z"
        },
        "id": "a172f354"
      },
      "source": [
        "### 16- Write a Python program to remove spaces from a given string"
      ]
    },
    {
      "cell_type": "code",
      "execution_count": 24,
      "id": "36d3569d",
      "metadata": {
        "ExecuteTime": {
          "end_time": "2023-07-23T23:50:06.443640Z",
          "start_time": "2023-07-23T23:50:01.592919Z"
        },
        "id": "36d3569d",
        "outputId": "14cd37df-e438-40b8-b4ab-430aab112f63",
        "colab": {
          "base_uri": "https://localhost:8080/"
        }
      },
      "outputs": [
        {
          "output_type": "stream",
          "name": "stdout",
          "text": [
            "enter strkreo awad badie\n",
            "kreoawadbadie\n"
          ]
        }
      ],
      "source": [
        "n=input(\"enter str\")\n",
        "print(n.replace(\" \",\"\"))\n"
      ]
    },
    {
      "cell_type": "markdown",
      "id": "a5470d49",
      "metadata": {
        "id": "a5470d49"
      },
      "source": [
        "### 17-write a Python program to swap first and last element of any list."
      ]
    },
    {
      "cell_type": "code",
      "execution_count": 26,
      "id": "9d73887b",
      "metadata": {
        "ExecuteTime": {
          "end_time": "2023-07-23T23:50:59.283429Z",
          "start_time": "2023-07-23T23:50:59.272096Z"
        },
        "id": "9d73887b",
        "outputId": "36295262-6a1a-490c-c71d-12650535e739",
        "colab": {
          "base_uri": "https://localhost:8080/"
        }
      },
      "outputs": [
        {
          "output_type": "stream",
          "name": "stdout",
          "text": [
            "[1, 2, 3]\n",
            "[3, 2, 1]\n"
          ]
        }
      ],
      "source": [
        "a = [1, 2, 3]\n",
        "print( a)\n",
        "c = a[-1]\n",
        "a[-1] = a[0]\n",
        "a[0] = c\n",
        "print(a)\n",
        "\n",
        "\n"
      ]
    },
    {
      "cell_type": "markdown",
      "source": [
        "# **Write a Python Program to Find HCF.**\n",
        "## Highest Common Factor(HCF): HCF, or Highest Common Factor, is the largest positive integer that divides two or more numbers without leaving a remainder. Formula: For two numbers a and b, the HCF can be found using the formula:\n",
        "\n",
        "** HCF(𝑎, 𝑏) = GCD(𝑎, 𝑏)**\n",
        "For more than two numbers, you can find the HCF by taking the GCD of pairs of numbers at a time until you reach the last pair.\n",
        "\n",
        "# **Note: GCD stands for Greatest Common Divisor, use function.**\n"
      ],
      "metadata": {
        "id": "iS6JiE4uPbyH"
      },
      "id": "iS6JiE4uPbyH"
    },
    {
      "cell_type": "code",
      "source": [
        "\n",
        "def hcf(a, b):\n",
        "    z = []\n",
        "    if a > b:\n",
        "        for i in range(1, b + 1):\n",
        "            if a % i == 0 and b % i == 0:\n",
        "                z.append(i)\n",
        "    else:\n",
        "        for i in range(1, a + 1):\n",
        "            if a % i == 0 and b % i == 0:\n",
        "                z.append(i)\n",
        "\n",
        "    return max(z)\n",
        "\n",
        "\n",
        "a = int(input(\"Enter first number: \"))\n",
        "b = int(input(\"Enter second number: \"))\n",
        "\n",
        "print(\"HCF is:\", hcf(a, b))\n",
        "\n",
        ""
      ],
      "metadata": {
        "id": "9qUfYf0wPnvt",
        "outputId": "6e16fe13-4dc1-47f4-e9bb-d953b68f1adc",
        "colab": {
          "base_uri": "https://localhost:8080/"
        }
      },
      "id": "9qUfYf0wPnvt",
      "execution_count": 27,
      "outputs": [
        {
          "output_type": "stream",
          "name": "stdout",
          "text": [
            "Enter first number: 18\n",
            "Enter second number: 12\n",
            "HCF is: 6\n"
          ]
        }
      ]
    },
    {
      "cell_type": "code",
      "source": [],
      "metadata": {
        "id": "z_H0XSJnPeMw"
      },
      "id": "z_H0XSJnPeMw",
      "execution_count": null,
      "outputs": []
    }
  ],
  "metadata": {
    "kernelspec": {
      "display_name": "Python 3 (ipykernel)",
      "language": "python",
      "name": "python3"
    },
    "language_info": {
      "codemirror_mode": {
        "name": "ipython",
        "version": 3
      },
      "file_extension": ".py",
      "mimetype": "text/x-python",
      "name": "python",
      "nbconvert_exporter": "python",
      "pygments_lexer": "ipython3",
      "version": "3.9.12"
    },
    "colab": {
      "provenance": [],
      "include_colab_link": true
    }
  },
  "nbformat": 4,
  "nbformat_minor": 5
}